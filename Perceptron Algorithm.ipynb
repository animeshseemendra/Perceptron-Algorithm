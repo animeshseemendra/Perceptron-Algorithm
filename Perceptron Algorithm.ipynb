{
 "cells": [
  {
   "cell_type": "code",
   "execution_count": 13,
   "metadata": {},
   "outputs": [],
   "source": [
    "import numpy as np\n",
    "\n",
    "def step_function(x):\n",
    "    Z=np.matrix()\n",
    "    for i in len(x):\n",
    "        if x[i]>0:\n",
    "            np.append(Z,[1]) \n",
    "        else: \n",
    "            np.append(Z,[0])\n",
    "    return z\n",
    "def yhat(W,X,b):\n",
    "    return (np.matmul(W,X)+b)\n"
   ]
  },
  {
   "cell_type": "code",
   "execution_count": 14,
   "metadata": {},
   "outputs": [],
   "source": [
    "def perceptron_algo(X,y,W,b,learn_rate):\n",
    "    y_hat=step_function(yhat(W,X,b))\n",
    "    er=y-y_hat\n",
    "    for i in len(er):\n",
    "            if (er[i]==1):\n",
    "                for j in len(W):\n",
    "                    W[j]=W[j]+learn_rate*X[i][j]\n",
    "                    b=b+learn_rate\n",
    "            elif(er[i]==-1):\n",
    "                 for j in len(W):\n",
    "                    W[j]=W[j]-learn_rate*X[i][j]\n",
    "                    b=b-learn_rate\n",
    "    return W,b\n",
    "                \n",
    "                "
   ]
  },
  {
   "cell_type": "code",
   "execution_count": 15,
   "metadata": {},
   "outputs": [],
   "source": [
    "def Train_algo(X,y,learn_rate,num_epoch=25):\n",
    "    x_min, x_max = min(X.T[0]), max(X.T[0])\n",
    "    y_min, y_max = min(X.T[1]), max(X.T[1])\n",
    "    W = np.array(np.random.rand(2,1))\n",
    "    b = np.random.rand(1)[0] + x_max\n",
    "    for i in range(num_epochs):\n",
    "        # In each epoch, we apply the perceptron step.\n",
    "        W, b = perceptronStep(X, y, W, b, learn_rate)"
   ]
  },
  {
   "cell_type": "code",
   "execution_count": null,
   "metadata": {},
   "outputs": [],
   "source": []
  }
 ],
 "metadata": {
  "kernelspec": {
   "display_name": "Python 3",
   "language": "python",
   "name": "python3"
  },
  "language_info": {
   "codemirror_mode": {
    "name": "ipython",
    "version": 3
   },
   "file_extension": ".py",
   "mimetype": "text/x-python",
   "name": "python",
   "nbconvert_exporter": "python",
   "pygments_lexer": "ipython3",
   "version": "3.6.4"
  }
 },
 "nbformat": 4,
 "nbformat_minor": 2
}
